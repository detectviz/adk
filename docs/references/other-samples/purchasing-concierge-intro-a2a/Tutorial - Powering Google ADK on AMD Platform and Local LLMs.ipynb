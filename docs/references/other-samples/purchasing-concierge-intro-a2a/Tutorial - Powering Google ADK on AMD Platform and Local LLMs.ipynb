{
 "cells": [
  {
   "cell_type": "code",
   "execution_count": null,
   "id": "7c067b00",
   "metadata": {
    "vscode": {
     "languageId": "markdown"
    }
   },
   "outputs": [],
   "source": []
  },
  {
   "cell_type": "markdown",
   "id": "082c5488",
   "metadata": {},
   "source": [
    "1) Learn how to utilize Google ADK on AMD GPUs with your own models.\n",
    "2) Step-by-step instructions for setting up a Google ADK Agentic AI application locally.\n",
    "3) Explore next steps to leverage AMD Developer Cloud resources"
   ]
  }
 ],
 "metadata": {
  "kernelspec": {
   "display_name": "Python 3 (ipykernel)",
   "language": "python",
   "name": "python3"
  },
  "language_info": {
   "codemirror_mode": {
    "name": "ipython",
    "version": 3
   },
   "file_extension": ".py",
   "mimetype": "text/x-python",
   "name": "python",
   "nbconvert_exporter": "python",
   "pygments_lexer": "ipython3",
   "version": "3.12.11"
  }
 },
 "nbformat": 4,
 "nbformat_minor": 5
}
