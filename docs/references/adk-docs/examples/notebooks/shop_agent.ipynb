{
  "cells": [
    {
      "cell_type": "markdown",
      "id": "jLQ7lbhwrGFA",
      "metadata": {
        "id": "jLQ7lbhwrGFA"
      },
      "source": [
        "# 使用 ADK + 向量搜尋建立電子商務推薦 AI 代理程式\n",
        "\n",
        "原作者：[Kaz Sato](https://github.com/kazunori279)\n",
        "\n",
        "在本教學中，我們將探討如何為電子商務網站建立一個簡單的多代理程式系統，旨在提供您在 [Shopper's Concierge 示範](https://www.youtube.com/watch?v=LwHPYyw7u6U) 中找到的「生成式推薦」。此處也提供逐步指南影片：[此處](https://youtu.be/07GX28rk7Yc)。\n",
        "\n",
        "### 什麼是生成式推薦？\n",
        "\n",
        "生成式推薦指的是 AI 不僅能擷取直接符合使用者明確搜尋查詢的項目，還能**根據對使用者意圖、外部研究或上下文資訊的更深入理解，智慧地推斷、擴展或建立新的搜尋查詢和項目建議。**\n",
        "\n",
        "以下是其展示的功能細分：\n",
        "\n",
        "1.  **理解和擴展使用者意圖：** 系統不僅僅是接收直接的查詢，而是能夠解讀潛在的需求。例如，當使用者要求「給 10 歲男孩的生日禮物」時，AI 不僅僅是搜尋這些確切的關鍵字。\n",
        "2.  **利用外部研究 (Google 搜尋)：** 「生成式推薦」過程涉及使用像 Google 搜尋這樣的工具進行市場研究。這使得 AI 能夠理解對於給定的意圖，通常會購買哪種類型的商品 (例如，10 歲男孩的熱門禮物)。\n",
        "3.  **產生新的查詢：** 基於這項研究，AI 會主動*產生*一個更具體和多樣化的搜尋查詢列表。這些產生的查詢超越了最初的使用者輸入，旨在擴大搜尋範圍並找到更相關的結果 (例如，「10 歲兒童的教育玩具」、「男孩的冒險書籍」、「兒童的編碼套件」)。\n",
        "\n",
        "從本質上講，「生成式推薦」超越了簡單的關鍵字比對，採用了一種更動態、更智慧的方法，AI 會主動協助使用者產生新的想法和相關的搜尋路徑，幫助他們發現想要的產品。\n",
        "\n",
        "最後，我們將建立一個依循以下流程運作的代理程式系統：\n",
        "\n",
        "![商店代理程式序列圖](../../../docs/assets/shop_agent.png)\n",
        "\n",
        "<!-- 圖表的 Mermaid 程式碼\n",
        "sequenceDiagram\n",
        "   participant User as 使用者\n",
        "   participant Shop Agent as 商店代理程式\n",
        "   participant Research Agent as 研究代理程式\n",
        "   participant Google Search as Google 搜尋\n",
        "   participant find_shopping_items as 尋找購物項目\n",
        "   participant Vector Search as 向量搜尋\n",
        "\n",
        "   User->>Shop Agent: 有沒有給我兒子的生日禮物？\n",
        "   activate Shop Agent\n",
        "   Shop Agent->>Research Agent: 有沒有給我兒子的生日禮物？\n",
        "   activate Research Agent\n",
        "   Research Agent->>Google Search: 搜尋男孩的生日禮物\n",
        "   activate Google Search\n",
        "   Google Search->>Research Agent: 搜尋結果\n",
        "   deactivate Google Search\n",
        "   Research Agent->>Research Agent: 產生 5 個查詢\n",
        "   Research Agent->>Shop Agent: 「STEM 玩具」、「樂高積木組」...\n",
        "   deactivate Research Agent\n",
        "   Shop Agent->>User: 這裡有建議的查詢：「STEM 玩具」、「樂高積木組」...\n",
        "   Shop Agent->>User: 用這些查詢來搜尋可以嗎？\n",
        "   deactivate Shop Agent\n",
        "\n",
        "   activate Shop Agent\n",
        "   User->>Shop Agent: 好的，請！\n",
        "   activate find_shopping_items\n",
        "   Shop Agent->>find_shopping_items: 「STEM 玩具」、「樂高積木組」...\n",
        "   activate Vector Search\n",
        "   find_shopping_items->>Vector Search: 「STEM 玩具」、「樂高積木組」...\n",
        "   Vector Search->>find_shopping_items: 「兒童對講機」、「Minecraft 探險家包」...\n",
        "   deactivate Vector Search\n",
        "   find_shopping_items->>Shop Agent : 「兒童對講機」、「Minecraft 探險家包」...\n",
        "   deactivate find_shopping_items\n",
        "   Shop Agent->>User : 「兒童對講機」、「Minecraft 探險家包」...\n",
        "   deactivate Shop Agent\n",
        "-->"
      ]
    },
    {
      "cell_type": "markdown",
      "id": "ZyK62QElQv_K",
      "metadata": {
        "id": "ZyK62QElQv_K"
      },
      "source": [
        "## 安裝 ADK\n",
        "\n",
        "首先，我們將安裝 ADK。在 Colab Enterprise 中，您可能會看到 `ERROR: pip's dependency resolver does...`，但您可以忽略它。"
      ]
    },
    {
      "cell_type": "code",
      "execution_count": 46,
      "id": "oeSkwKPttGh5YTX79KT9oM0E",
      "metadata": {
        "id": "oeSkwKPttGh5YTX79KT9oM0E",
        "tags": []
      },
      "outputs": [],
      "source": [
        "%pip install --upgrade google-adk==1.4.2 -q"
      ]
    },
    {
      "cell_type": "markdown",
      "id": "WoqdAfBRrRcR",
      "metadata": {
        "id": "WoqdAfBRrRcR"
      },
      "source": [
        "### 匯入函式庫"
      ]
    },
    {
      "cell_type": "code",
      "execution_count": null,
      "id": "M22ecOwlgdYZ",
      "metadata": {
        "id": "M22ecOwlgdYZ"
      },
      "outputs": [],
      "source": [
        "# 匯入必要的函式庫\n",
        "import os\n",
        "import logging\n",
        "import asyncio\n",
        "from google.adk.agents import Agent\n",
        "from google.adk.runners import Runner\n",
        "from google.adk.sessions import  InMemorySessionService\n",
        "from google.adk.tools.agent_tool import AgentTool\n",
        "from google.genai import types\n",
        "\n",
        "# 忽略來自 ADK 和 Gemini API 的警告\n",
        "logging.getLogger(\"google.adk.runners\").setLevel(logging.ERROR)\n",
        "logging.getLogger(\"google_genai.types\").setLevel(logging.ERROR)"
      ]
    },
    {
      "cell_type": "markdown",
      "id": "11963108",
      "metadata": {},
      "source": [
        "### 設定環境變數\n",
        "\n",
        "從 [Google AI Studio](https://aistudio.google.com/apikey) 取得 API 金鑰，將金鑰設定到以下的 `GOOGLE_API_KEY`，然後執行儲存格以設定執行 ADK 所需的環境變數。"
      ]
    },
    {
      "cell_type": "code",
      "execution_count": null,
      "id": "bb4b79a7",
      "metadata": {},
      "outputs": [],
      "source": [
        "from getpass import getpass\n",
        "\n",
        "# 設定執行 ADK 所需的環境變數 (使用 Gemini API 金鑰)\n",
        "os.environ[\"GOOGLE_GENAI_USE_VERTEXAI\"] = \"False\"\n",
        "os.environ[\"GOOGLE_API_KEY\"] = getpass(\"輸入您的 Gemini API 金鑰：\")\n",
        "\n",
        "# 若要在 Colab Enterprise 或 Cloud Workbench 中改用 Vertex AI，請使用以下程式碼：\n",
        "#[PROJECT_ID] = !gcloud config list --format \"value(core.project)\"\n",
        "#os.environ[\"GOOGLE_CLOUD_PROJECT\"] = PROJECT_ID\n",
        "#os.environ[\"GOOGLE_CLOUD_LOCATION\"] = \"us-central1\"\n",
        "#os.environ[\"GOOGLE_GENAI_USE_VERTEXAI\"] = \"True\""
      ]
    },
    {
      "cell_type": "markdown",
      "id": "ynPYDwqjrVaa",
      "metadata": {
        "id": "ynPYDwqjrVaa"
      },
      "source": [
        "## 定義 **test_agent** 函式以測試代理程式\n",
        "\n",
        "為了測試我們將要建構的代理程式，我們需要定義一個函式 `test_agent`，它使用 `Runner` 和 `SessionService` 來模擬一個代理程式執行階段環境。若要深入了解代理程式執行階段，請參閱 [代理程式執行階段](https://google.github.io/adk-docs/runtime/) 文件。"
      ]
    },
    {
      "cell_type": "code",
      "execution_count": 20,
      "id": "DFy28Xv38Ngu",
      "metadata": {
        "id": "DFy28Xv38Ngu"
      },
      "outputs": [],
      "source": [
        "from google.genai import types\n",
        "\n",
        "# 定義用於測試代理程式的 app_name、user_id 和 session_id\n",
        "APP_NAME = \"shop_concierge_app\"\n",
        "USER_ID = \"user_1\"\n",
        "\n",
        "session_service = InMemorySessionService()\n",
        "\n",
        "async def test_agent(query, agent):\n",
        "  \"\"\"向代理程式傳送查詢並列印最終回應。\"\"\"\n",
        "\n",
        "  print(f\"\\n>>> 使用者查詢：{query}\")\n",
        "\n",
        "  # 建立一個會話\n",
        "  session = await session_service.create_session(\n",
        "    app_name=APP_NAME,\n",
        "    user_id=USER_ID,\n",
        "  )\n",
        "\n",
        "  # 建立一個 Runner\n",
        "  runner = Runner(\n",
        "      app_name=APP_NAME,\n",
        "      agent=agent,\n",
        "      session_service=session_service,\n",
        "  )\n",
        "\n",
        "  # 以 ADK 格式準備使用者訊息\n",
        "  content = types.Content(role='user', parts=[types.Part(text=query)])\n",
        "\n",
        "  final_response_text = None\n",
        "  # 我們迭代 run_async 的事件以尋找最終答案。\n",
        "  async for event in runner.run_async(user_id=USER_ID, session_id=session.id, new_message=content):\n",
        "      if event.is_final_response():\n",
        "          if event.content and event.content.parts:\n",
        "             final_response_text = event.content.parts[0].text\n",
        "          break\n",
        "  print(f\"<<< 代理程式回應：{final_response_text}\")"
      ]
    },
    {
      "cell_type": "markdown",
      "id": "TcVBA98xra0i",
      "metadata": {
        "id": "TcVBA98xra0i"
      },
      "source": [
        "## 定義一個 **商店代理程式**\n",
        "\n",
        "讓我們定義一個商店代理程式並測試它。請注意，此代理程式目前沒有任何搜尋功能。"
      ]
    },
    {
      "cell_type": "code",
      "execution_count": null,
      "id": "em9XplVkggtO",
      "metadata": {
        "id": "em9XplVkggtO"
      },
      "outputs": [],
      "source": [
        "instruction = f'''\n",
        "    您的角色是電子商務網站上的商店搜尋代理程式，該網站擁有數百萬件商品。您的職責是根據使用者查詢搜尋商品。\n",
        "'''\n",
        "\n",
        "shop_agent = Agent(\n",
        "    model='gemini-2.5-flash',\n",
        "    name='shop_agent',\n",
        "    description=(\n",
        "        '電子商務網站的商店代理程式'\n",
        "    ),\n",
        "    instruction=instruction,\n",
        ")"
      ]
    },
    {
      "cell_type": "code",
      "execution_count": 22,
      "id": "aJGpLk7P-BQP",
      "metadata": {
        "colab": {
          "base_uri": "https://localhost:8080/"
        },
        "id": "aJGpLk7P-BQP",
        "outputId": "55606e8e-f663-4f7c-c1fb-1af5a5ec6817"
      },
      "outputs": [
        {
          "name": "stdout",
          "output_type": "stream",
          "text": [
            "\n",
            ">>> 使用者查詢：這是什麼樣的網站？\n",
            "<<< 代理程式回應：我是一個電子商務網站的商店代理程式，擁有數百萬件商品。\n",
            "\n"
          ]
        }
      ],
      "source": [
        "await test_agent(\"這是什麼樣的網站？\", shop_agent)"
      ]
    },
    {
      "cell_type": "markdown",
      "id": "zcJJw0m6re_K",
      "metadata": {
        "id": "zcJJw0m6re_K"
      },
      "source": [
        "## 定義 **call_vector_search** 以呼叫向量搜尋後端\n",
        "\n",
        "對於上述的基本代理程式，我們希望新增一個項目搜尋功能。為此，我們在此定義一個函式 `call_query_api`，它會向 [向量搜尋互動式示範](https://cloud.google.com/vertex-ai/docs/vector-search/try-it) 提供的 REST 端點傳送一個 HTTP 請求。有關傳送到端點的每個參數的詳細資訊，請參閱示範頁面。"
      ]
    },
    {
      "cell_type": "code",
      "execution_count": 23,
      "id": "y75WYLNchHPD",
      "metadata": {
        "id": "y75WYLNchHPD"
      },
      "outputs": [],
      "source": [
        "import requests\n",
        "import json\n",
        "\n",
        "def call_vector_search(url, query, rows=None):\n",
        "    \"\"\"\n",
        "    呼叫向量搜尋後端進行查詢。\n",
        "\n",
        "    Args:\n",
        "        url (str): 搜尋端點的 URL。\n",
        "        query (str): 查詢字串。\n",
        "        rows (int, optional): 要傳回的結果列數。預設為 None。\n",
        "\n",
        "    Returns:\n",
        "        dict: 來自 API 的 JSON 回應。\n",
        "    \"\"\"\n",
        "\n",
        "    # 建立 HTTP 標頭和負載\n",
        "    headers = {'Content-Type': 'application/json'}\n",
        "    payload = {\n",
        "        \"query\": query,\n",
        "        \"rows\": rows,\n",
        "        \"dataset_id\": \"mercari3m_mm\", # 使用 Mercari 3M 多模態索引\n",
        "        \"use_dense\": True, # 使用多模態搜尋\n",
        "        \"use_sparse\": True, # 也使用關鍵字搜尋\n",
        "        \"rrf_alpha\": 0.5, # 兩個結果以相同的權重合併\n",
        "        \"use_rerank\": True, # 使用 Ranking API 進行重新排名\n",
        "    }\n",
        "\n",
        "    # 向搜尋端點傳送 HTTP 請求\n",
        "    try:\n",
        "        response = requests.post(url, headers=headers, data=json.dumps(payload))\n",
        "        response.raise_for_status()  # 對不好的狀態碼引發例外\n",
        "        return response.json()\n",
        "    except requests.exceptions.RequestException as e:\n",
        "        print(f\"呼叫 API 時發生錯誤：{e}\")\n",
        "        return None"
      ]
    },
    {
      "cell_type": "markdown",
      "id": "VQzZRzYdrtKg",
      "metadata": {
        "id": "VQzZRzYdrtKg"
      },
      "source": [
        "## 定義 **find_shopping_items** 工具\n",
        "\n",
        "現在，我們將使用名為 `find_shopping_items` 的 ADK 工具來包裝 `call_vector_search` 函式。請注意，我們需要 1) 使用明確的類型，例如 `queries: list[str]`，以及 2) 使用詳細的文件字串，這兩者都是為了向代理程式傳達此工具的功能和語意。\n",
        "\n",
        "有關 ADK 工具機制的詳細資訊，請參閱 ADK 文件中的[工具](https://google.github.io/adk-docs/tools/)。"
      ]
    },
    {
      "cell_type": "code",
      "execution_count": 24,
      "id": "D7Vj4_-aiykD",
      "metadata": {
        "id": "D7Vj4_-aiykD"
      },
      "outputs": [],
      "source": [
        "from typing import Dict\n",
        "\n",
        "def find_shopping_items(queries: list[str]) -> Dict[str, str]:\n",
        "    \"\"\"\n",
        "    使用指定的查詢列表從電子商務網站尋找購物項目。\n",
        "\n",
        "    Args:\n",
        "        queries: 要執行的查詢列表。\n",
        "    Returns:\n",
        "        一個具有以下一個屬性的字典：\n",
        "            - \"status\": 傳回以下狀態：\n",
        "                - \"success\": 成功執行\n",
        "            - \"items\": 在電子商務網站上找到的項目。\n",
        "    \"\"\"\n",
        "    url = \"https://www.ac0.cloudadvocacyorg.joonix.net/api/query\"\n",
        "\n",
        "    items = []\n",
        "    for query in queries:\n",
        "        result = call_vector_search(\n",
        "            url=url,\n",
        "            query=query,\n",
        "            rows=3,\n",
        "        )\n",
        "        items.extend(result[\"items\"])\n",
        "\n",
        "    print(\"-----\")\n",
        "    print(f\"使用者查詢：{queries}\")\n",
        "    print(f\"找到：{len(items)} 個項目\")\n",
        "    print(\"-----\")\n",
        "\n",
        "    return items"
      ]
    },
    {
      "cell_type": "markdown",
      "id": "_2bMByoWX8De",
      "metadata": {
        "id": "_2bMByoWX8De"
      },
      "source": [
        "讓我們來測試這個工具。"
      ]
    },
    {
      "cell_type": "code",
      "execution_count": 25,
      "id": "KMWwG9CJl0zR",
      "metadata": {
        "colab": {
          "base_uri": "https://localhost:8080/"
        },
        "id": "KMWwG9CJl0zR",
        "outputId": "aed8653b-1519-4e46-ff59-7cf0b168610b"
      },
      "outputs": [
        {
          "name": "stdout",
          "output_type": "stream",
          "text": [
            "-----\n",
            "使用者查詢：['有跳舞的人的杯子', '有跳舞的動物的杯子']\n",
            "找到：6 個項目\n",
            "-----\n"
          ]
        },
        {
          "data": {
            "text/plain": [
              "[{'dense_dist': 0.0,\n",
              "  'description': 'Free People 女士日落跳舞洋裝粉紅色 M 號\\n\\n品牌：Free People \\n款式：日落跳舞洋裝\\n顏色：粉紅色\\n尺寸：M\\nSku 編號：9968\\n狀況：全新無吊牌\\n串珠繫帶細節\\n腰部有梯形蕾絲\\n全內襯',\n",
              "  'id': 'm47216877271',\n",
              "  'img_url': 'https://u-mercari-images.mercdn.net/photos/m47216877271_1.jpg?w=200&h=200&fitcrop&sharpen',\n",
              "  'name': 'Free People 女士日落跳舞洋裝粉紅色 M 號',\n",
              "  'rerank_score': 0.0,\n",
              "  'sparse_dist': 0.4827784597873688,\n",
              "  'url': 'https://www.mercari.com/us/item/m47216877271'},\n",
              " {'dense_dist': 0.20211432874202728,\n",
              "  'description': '復古 hardanger 舞者 bergquist figgjo 咖啡馬克杯',\n",
              "  'id': 'm10172014563',\n",
              "  'img_url': 'https://u-mercari-images.mercdn.net/photos/m10172014563_1.jpg?w=200&h=200&fitcrop&sharpen',\n",
              "  'name': '復古 Berquist Figgjo 咖啡馬克杯',\n",
              "  'rerank_score': 0.0,\n",
              "  'sparse_dist': None,\n",
              "  'url': 'https://www.mercari.com/us/item/m10172014563'},\n",
              " {'dense_dist': 0.1960698664188385,\n",
              "  'description': 'Pottery Barn 聖誕馴鹿馬克杯 - Dasher、Dancer、Prancer 和 Vixen 4 件組',\n",
              "  'id': 'm81366738028',\n",
              "  'img_url': 'https://u-mercari-images.mercdn.net/photos/m81366738028_1.jpg?w=200&h=200&fitcrop&sharpen',\n",
              "  'name': 'Pottery barn 馴鹿馬克杯',\n",
              "  'rerank_score': 0.0,\n",
              "  'sparse_dist': None,\n",
              "  'url': 'https://www.mercari.com/us/item/m81366738028'},\n",
              " {'dense_dist': 0.0,\n",
              "  'description': '全新 / 跳舞公仔',\n",
              "  'id': 'm11326867382',\n",
              "  'img_url': 'https://u-mercari-images.mercdn.net/photos/m11326867382_1.jpg?w=200&h=200&fitcrop&sharpen',\n",
              "  'name': 'Hello Kitty 跳舞公仔',\n",
              "  'rerank_score': 0.0,\n",
              "  'sparse_dist': 0.4476025104522705,\n",
              "  'url': 'https://www.mercari.com/us/item/m11326867382'},\n",
              " {'dense_dist': 0.25508207082748413,\n",
              "  'description': '頂部有金邊\\n無裂痕或缺口\\n狀況極佳\\n杯內無痕跡\\n像新的一樣\\n無菸家庭',\n",
              "  'id': 'm71882643462',\n",
              "  'img_url': 'https://u-mercari-images.mercdn.net/photos/m71882643462_1.jpg?w=200&h=200&fitcrop&sharpen',\n",
              "  'name': '復古華特迪士尼 ARISTOCATS 金邊咖啡馬克杯茶杯 (日本)',\n",
              "  'rerank_score': 0.0,\n",
              "  'sparse_dist': None,\n",
              "  'url': 'https://www.mercari.com/us/item/m71882643462'},\n",
              " {'dense_dist': 0.0,\n",
              "  'description': '動物之最',\n",
              "  'id': 'm30120116854',\n",
              "  'img_url': 'https://u-mercari-images.mercdn.net/photos/m30120116854_1.jpg?w=200&h=200&fitcrop&sharpen',\n",
              "  'name': 'The animals 唱片 (原版)',\n",
              "  'rerank_score': 0.0,\n",
              "  'sparse_dist': 0.4455285668373108,\n",
              "  'url': 'https://www.mercari.com/us/item/m30120116854'}]"
            ]
          },
          "execution_count": 25,
          "metadata": {},
          "output_type": "execute_result"
        }
      ],
      "source": [
        "find_shopping_items([\"有跳舞的人的杯子\", \"有跳舞的動物的杯子\"])"
      ]
    },
    {
      "cell_type": "markdown",
      "id": "S1E0TEB7ryBe",
      "metadata": {
        "id": "S1E0TEB7ryBe"
      },
      "source": [
        "## 將工具新增到 **商店代理程式**\n",
        "\n",
        "現在可以將工具新增到商店代理程式了。新增了以下部分：\n",
        "\n",
        "- 在 `instruction` 中新增：`若要尋找項目，請使用 find_shopping_items 工具，傳遞一個查詢列表，並以項目的名稱、描述和圖片網址回覆使用者`\n",
        "- 在 `Agent` 建構函式中新增 `tools` 參數：`tools=[find_shopping_items]`\n",
        "\n"
      ]
    },
    {
      "cell_type": "code",
      "execution_count": null,
      "id": "sHVv95QUnDHE",
      "metadata": {
        "id": "sHVv95QUnDHE"
      },
      "outputs": [],
      "source": [
        "instruction = f'''\n",
        "    您的角色是電子商務網站上的商店搜尋代理程式，該網站擁有數百萬件商品。您的職責是根據您收到的查詢搜尋商品。\n",
        "\n",
        "    若要尋找項目，請使用 `find_shopping_items` 工具，傳遞一個查詢列表，並以項目的名稱、描述和圖片網址回覆使用者\n",
        "'''\n",
        "\n",
        "shop_agent = Agent(\n",
        "    model='gemini-2.5-flash',\n",
        "    name='shop_agent',\n",
        "    description=(\n",
        "        '電子商務網站的商店代理程式'\n",
        "    ),\n",
        "    instruction=instruction,\n",
        "    tools=[find_shopping_items],\n",
        ")"
      ]
    },
    {
      "cell_type": "markdown",
      "id": "Q2jMH45yY540",
      "metadata": {
        "id": "Q2jMH45yY540"
      },
      "source": [
        "讓我們來測試這個代理程式。"
      ]
    },
    {
      "cell_type": "code",
      "execution_count": 27,
      "id": "L4CpsCzWnfIj",
      "metadata": {
        "colab": {
          "base_uri": "https://localhost:8080/"
        },
        "id": "L4CpsCzWnfIj",
        "outputId": "51d60d11-67e0-4979-98a2-6513cd21d028"
      },
      "outputs": [
        {
          "name": "stdout",
          "output_type": "stream",
          "text": [
            "\n",
            ">>> 使用者查詢：有跳舞公仔的杯子\n",
            "-----\n",
            "使用者查詢：['有跳舞公仔的杯子']\n",
            "找到：3 個項目\n",
            "-----\n",
            "<<< 代理程式回應：我找到了三個符合您描述的項目：\n",
            "\n",
            "*   **復活節裝飾跳舞太陽能商品 4 件組太陽能公仔：** 這是一套 4 件組太陽能復活節裝飾，以跳舞的公仔為特色。該套組包括一個在蛋中的跳舞兔子、一個在車裡的跳舞公兔、一個在車裡的跳舞母兔和一個跳舞的孵化小雞。它們高 4.5 英寸。\n",
            "*   **Mayfair Collection By Jay-非洲女士/籃子/太陽-茶/咖啡杯/馬克杯：** 這個馬克杯以非洲女士、籃子和太陽為特色。馬克杯狀況非常好，沒有裂痕、缺口、裂紋或可見的刮痕。它高 4.25 英寸 x 寬 4.5 英寸（含把手）x 直徑 3.25 英寸。\n",
            "*   **Hello Kitty 跳舞公仔：** 這是一個全新的 Hello Kitty 跳舞公仔。\n"
          ]
        }
      ],
      "source": [
        "await test_agent(\"有跳舞公仔的杯子\", shop_agent)"
      ]
    },
    {
      "cell_type": "markdown",
      "id": "IoKVQ8vcr2zL",
      "metadata": {
        "id": "IoKVQ8vcr2zL"
      },
      "source": [
        "## 定義具有 Google 搜尋 grounding 的 **研究代理程式**\n",
        "\n",
        "接下來，我們將定義另一個代理程式 `research_agent`。此代理程式將接收使用者查詢，並使用內建的 Google 搜尋工具來研究人們針對使用者意圖購買哪種類型的商品。然後產生 5 個查詢以尋找這些商品。\n",
        "\n",
        "請注意，以下代理程式定義將 `google_search` 指定為一個工具。這樣，代理程式就獲得了使用 Google 搜尋的能力。有關 Google 搜尋工具的詳細資訊，請參閱 ADK 文件中的 [Google 搜尋](https://google.github.io/adk-docs/tools/built-in-tools/#google-search)。"
      ]
    },
    {
      "cell_type": "code",
      "execution_count": null,
      "id": "cL-EDlNtoRk5",
      "metadata": {
        "id": "cL-EDlNtoRk5"
      },
      "outputs": [],
      "source": [
        "from google.adk.tools import google_search\n",
        "\n",
        "instruction = f'''\n",
        "    您的角色是電子商務網站的市場研究員，該網站擁有數百萬件商品。\n",
        "\n",
        "    當您收到使用者的搜尋請求時，請使用 Google 搜尋工具研究人們針對使用者意圖購買哪種類型的商品。\n",
        "\n",
        "    然後，產生 5 個查詢以在電子商務網站上尋找這些商品並傳回它們。\n",
        "'''\n",
        "\n",
        "research_agent = Agent(\n",
        "    model='gemini-2.5-flash',\n",
        "    name='research_agent',\n",
        "    description=('''\n",
        "        電子商務網站的市場研究員。接收使用者的搜尋請求，並傳回 5 個產生的英文查詢列表。\n",
        "    '''),\n",
        "    instruction=instruction,\n",
        "    tools=[google_search],\n",
        ")"
      ]
    },
    {
      "cell_type": "markdown",
      "id": "-i3ou53eivrP",
      "metadata": {
        "id": "-i3ou53eivrP"
      },
      "source": [
        "讓我們來測試這個代理程式。"
      ]
    },
    {
      "cell_type": "code",
      "execution_count": 30,
      "id": "0FYYM9zLpJ2L",
      "metadata": {
        "colab": {
          "base_uri": "https://localhost:8080/"
        },
        "id": "0FYYM9zLpJ2L",
        "outputId": "e2f276cd-5368-4452-96f0-925f3dae48a1"
      },
      "outputs": [
        {
          "name": "stdout",
          "output_type": "stream",
          "text": [
            "\n",
            ">>> 使用者查詢：給 10 歲男孩的生日禮物\n",
            "<<< 代理程式回應：好的，我可以幫您集思廣益一些給 10 歲男孩的禮物點子，然後為電子商務網站建立搜尋查詢。根據該年齡層目前的趨勢和熱門興趣，這裡有一些一般類別：\n",
            "\n",
            "1.  **科技禮物/小工具：** 這可能包括耳機、智慧手錶或初學者友善的編碼套件等。\n",
            "2.  **戶外/運動器材：** 像新籃球、滑板或露營裝備等物品通常很受歡迎。\n",
            "3.  **建築/建構玩具：** 樂高積木組、模型套件或遙控車提供引人入勝的活動。\n",
            "4.  **書籍/遊戲：** 考慮適合年齡的書籍、桌遊或電玩遊戲。\n",
            "5.  **美術與工藝：** 如果男孩有創意，美術用品或 DIY 套件可能是不錯的選擇。\n",
            "\n",
            "現在，讓我們根據這些類別為電子商務網站建立 5 個具體的搜尋查詢：\n",
            "\n",
            "\n"
          ]
        }
      ],
      "source": [
        "await test_agent(\"給 10 歲男孩的生日禮物\", research_agent)"
      ]
    },
    {
      "cell_type": "markdown",
      "id": "qlgJf8sGwnDl",
      "metadata": {
        "id": "qlgJf8sGwnDl"
      },
      "source": [
        "## 完成 **商店代理程式**\n",
        "\n",
        "最後，我們修改 `shop_agent` 以使用 `reseach_agent` 和 `find_shopping_items` 工具。"
      ]
    },
    {
      "cell_type": "code",
      "execution_count": null,
      "id": "gnsNNcSbwi5e",
      "metadata": {
        "id": "gnsNNcSbwi5e"
      },
      "outputs": [],
      "source": [
        "instruction = f'''\n",
        "    您的角色是電子商務網站的購物禮賓員，該網站擁有數百萬件商品。請遵循以下步驟。\n",
        "\n",
        "    當您收到使用者的搜尋請求時，請將其傳遞給 `research_agent` 工具，並接收 5 個產生的查詢。然後，將查詢列表傳遞給 `find_shopping_items` 以尋找商品。當您從工具收到商品列表時，請以商品的名稱、描述和圖片網址回覆使用者。\n",
        "'''\n",
        "\n",
        "shop_agent = Agent(\n",
        "    model='gemini-2.5-flash',\n",
        "    name='shop_agent',\n",
        "    description=(\n",
        "        '電子商務網站的購物禮賓員'\n",
        "    ),\n",
        "    instruction=instruction,\n",
        "    tools=[\n",
        "        AgentTool(agent=research_agent),\n",
        "        find_shopping_items,\n",
        "    ],\n",
        ")"
      ]
    },
    {
      "cell_type": "markdown",
      "id": "FQh_PCsInr7V",
      "metadata": {
        "id": "FQh_PCsInr7V"
      },
      "source": [
        "讓我們來測試這個代理程式。首先，使用者要求代理程式尋找項目。商店代理程式將呼叫研究代理程式，以使用 Google 搜尋結果產生查詢。"
      ]
    },
    {
      "cell_type": "code",
      "execution_count": 43,
      "id": "kFDWW2qExjnL",
      "metadata": {
        "colab": {
          "base_uri": "https://localhost:8080/"
        },
        "id": "kFDWW2qExjnL",
        "outputId": "45a13cfb-a4cc-42c6-917d-8d2158f09ce9"
      },
      "outputs": [
        {
          "name": "stdout",
          "output_type": "stream",
          "text": [
            "\n",
            ">>> 使用者查詢：你能幫我找一個給我 10 歲兒子的生日禮物嗎？\n",
            "-----\n",
            "使用者查詢：['給 10 歲男孩的 STEM 建築套件', '10 歲兒童的遙控車', '10 歲兒童的策略桌遊', '兒童初學者編碼遊戲', '10 歲兒童的戶外探險套件']\n",
            "找到：15 個項目\n",
            "-----\n",
            "<<< 代理程式回應：這裡有一些給您 10 歲兒子的生日禮物點子：\n",
            "\n",
            "*   **STEM 玩具：** 5 歲男孩的兒童玩具 - 5 合 1 拆裝男孩玩具 6-8 歲 STEM 玩具 5+ 歲男孩卡車變形為機器人建築玩具男孩禮物 5 6 7 歲男孩生日禮物。\n",
            "    [https://u-mercari-images.mercdn.net/photos/m72066092335\\_1.jpg?w=200&h=200&fitcrop&sharpen](https://u-mercari-images.mercdn.net/photos/m72066092335_1.jpg?w=200&h=200&fitcrop&sharpen)\n",
            "*   **Lucky Doug 建築玩具模型飛機組：** 此建築玩具組包括 258 個零件和組件，例如螺母、螺栓、小螺絲起子和扳手等，由金屬製成，可承受粗暴玩耍而無需擔心容易倒塌。一個值得多花一點錢的精心製作的 STEM 建築套件，與全塑膠版本相比。此模型飛機高 4 英寸，長 13.8 英寸，寬 15.8 英寸。\n",
            "    [https://u-mercari-images.mercdn.net/photos/m87990215453\\_1.jpg?w=200&h=200&fitcrop&sharpen](https://u-mercari-images.mercdn.net/photos/m87990215453_1.jpg?w=200&h=200&fitcrop&sharpen)\n",
            "*   **樂高：** 8-12 歲男孩的 STEM 建築玩具，6-8 歲男孩的組立套件，教育性建立機器人卡車套件。開箱/全新。\n",
            "    [https://u-mercari-images.mercdn.net/photos/m81806559165\\_1.jpg?w=200&h=200&fitcrop&sharpen](https://u-mercari-images.mercdn.net/photos/m81806559165_1.jpg?w=200&h=200&fitcrop&sharpen)\n",
            "*   **2 輛遙控車和兒童階梯：** 2 輛遙控車和蜘蛛人公仔階梯。\n",
            "    [https://u-mercari-images.mercdn.net/photos/m82117343164\\_1.jpg?w=200&h=200&fitcrop&sharpen](https://u-mercari-images.mercdn.net/photos/m82117343164_1.jpg?w=200&h=200&fitcrop&sharpen)\n",
            "*   **Gizmovine 遙控車：** 全新盒裝。售價 40 美元\n",
            "    [https://u-mercari-images.mercdn.net/photos/m43459589681\\_1.jpg?w=200&h=200&fitcrop&sharpen](https://u-mercari-images.mercdn.net/photos/m43459589681_1.jpg?w=200&h=200&fitcrop&sharpen)\n",
            "*   **遙控蜘蛛：** 有趣的遙控兒童玩具，全新。\n",
            "    [https://u-mercari-images.mercdn.net/photos/m30244645553\\_1.jpg?w=200&h=200&fitcrop&sharpen](https://u-mercari-images.mercdn.net/photos/m30244645553_1.jpg?w=200&h=200&fitcrop&sharpen)\n",
            "*   **5 款桌遊組：** 如圖所示的 5 款桌遊。所有零件齊全。\n",
            "    [https://u-mercari-images.mercdn.net/photos/m74053293813\\_1.jpg?w=200&h=200&fitcrop&sharpen](https://u-mercari-images.mercdn.net/photos/m74053293813_1.jpg?w=200&h=200&fitcrop&sharpen)\n",
            "*   **俄羅斯方塊桌遊：** 以桌遊形式玩這款經典的手機遊戲！就像您記憶中的一樣，這款遊戲是俄羅斯方塊的真人版。與對手對戰，看看誰在放置方塊時有最佳策略！這款遊戲像新的一樣！\n",
            "    [https://u-mercari-images.mercdn.net/photos/m85724096893\\_1.jpg?w=200&h=200&fitcrop&sharpen](https://u-mercari-images.mercdn.net/photos/m85724096893_1.jpg?w=200&h=200&fitcrop&sharpen)\n",
            "*   **3-8 歲恐龍玩具：** 3-8 歲女孩的恐龍玩具，3-8 歲女孩的恐龍投影兒童玩具 2 合 1 汽車玩具 2-10 歲女孩，2-10 歲兒童幼兒玩具的聖誕節復活節禮物 (粉紅色)。\n",
            "    [https://u-mercari-images.mercdn.net/photos/m18938674867\\_1.jpg?w=200&h=200&fitcrop&sharpen](https://u-mercari-images.mercdn.net/photos/m18938674867_1.jpg?w=200&h=200&fitcrop&sharpen)\n",
            "*   **兩本兒童編碼書：** 兩本由 CoderDojo 和 Scratch 編寫的兒童初學者編碼書。附贈一本《電玩遊戲中的酷炫職業》。私訊我與我的其他商品捆綁購買 :).\n",
            "    [https://u-mercari-images.mercdn.net/photos/m71279767592\\_1.jpg?w=200&h=200&fitcrop&sharpen](https://u-mercari-images.mercdn.net/photos/m71279767592_1.jpg?w=200&h=200&fitcrop&sharpen)\n",
            "*   **Thinkfun 程式設計遊戲系列 On The Brink 核心編碼概念全新，開箱：** Thinkfun 程式設計遊戲系列 On The Brink 核心編碼概念。包括控制面板、40 個遊戲板 (未開封)、18 張移動卡 (未開封)、1 個機器人。形狀完美，從未使用過。開箱。UPC 019275019013。8 歲以上。\n",
            "    [https://u-mercari-images.mercdn.net/photos/m44341092087\\_1.jpg?w=200&h=200&fitcrop&sharpen](https://u-mercari-images.mercdn.net/photos/m44341092087_1.jpg?w=200&h=200&fitcrop&sharpen)\n",
            "*   **兒童編碼與 Scratch：** 書名：兒童編碼與 Scratch。作者：Tommy Wilson。年齡：7 歲以上。頁數：200。讀過一次。狀況良好。有任何問題請隨時提出！謝謝！\n",
            "    [https://u-mercari-images.mercdn.net/photos/m26012207197\\_1.jpg?w=200&h=200&fitcrop&sharpen](https://u-mercari-images.mercdn.net/photos/m26012207197_1.jpg?w=200&h=200&fitcrop&sharpen)\n",
            "*   **復古 1958 年與星星的冒險首都冒險套件 A4：** 復古 1958 年與星星的冒險首都冒險套件。\n",
            "    [https://u-mercari-images.mercdn.net/photos/m36091453961\\_1.jpg?w=200&h=200&fitcrop&sharpen](https://u-mercari-images.mercdn.net/photos/m36091453961_1.jpg?w=200&h=200&fitcrop&sharpen)\n",
            "*   **戶外探險家套組 - 捕蟲套件自然探索兒童：** 探索周圍的世界：這款改良的兒童探索套件適合作為聖誕禮物或生日禮物。是您可以為您的孩子購買的最有趣的自然玩具之一。這款兒童戶外探險套件包含 20 件物品，足以讓孩子玩上幾個小時。教您的孩子閱讀地圖：說到 5 歲兒童的教育遊戲和自然玩具，KidzXplore 戶外探索套件中的真實工作羅盤是您練習發現北方和閱讀地圖所需的工具。立即開始賞鳥：一個真正的兒童賞鳥套件，戶外探險套件包括男孩雙筒望遠鏡，是兒童健行裝備的必備品。免運費。\n",
            "    [https://u-mercari-images.mercdn.net/photos/m33432731767\\_1.jpg?w=200&h=200&fitcrop&sharpen](https://u-mercari-images.mercdn.net/photos/m33432731767_1.jpg?w=200&h=200&fitcrop&sharpen)\n",
            "*   **戶外探險混合貼紙包：** 50 張混合戶外探險貼紙包。各種尺寸和圖像。防水。貼紙非常適合留作紀念！\n",
            "    [https://u-mercari-images.mercdn.net/photos/m90713058051\\_1.jpg?w=200&h=200&fitcrop&sharpen](https://u-mercari-images.mercdn.net/photos/m90713058051_1.jpg?w=200&h=200&fitcrop&sharpen)\n",
            "\n"
          ]
        }
      ],
      "source": [
        "await test_agent(\"你能幫我找一個給我 10 歲兒子的生日禮物嗎？\", shop_agent)"
      ]
    },
    {
      "cell_type": "markdown",
      "id": "lqb5_9FOog0D",
      "metadata": {
        "id": "lqb5_9FOog0D"
      },
      "source": [
        "## 摘要\n",
        "\n",
        "在本教學中，我們介紹了為電子商務平台建構多代理程式系統的過程，重點是「生成式推薦」。\n",
        "\n",
        "透過這個過程，本教學說明了如何使用 ADK 和外部搜尋功能，建構一個能夠理解使用者意圖、執行研究、產生目標查詢，並在電子商務情境中提供相關產品推薦的複雜 AI 代理程式系統。\n"
      ]
    }
  ],
  "metadata": {
    "colab": {
      "name": "shop_agent.ipynb",
      "provenance": []
    },
    "kernelspec": {
      "display_name": "Python 3",
      "language": "python",
      "name": "python3"
    },
    "language_info": {
      "codemirror_mode": {
        "name": "ipython",
        "version": 3
      },
      "file_extension": ".py",
      "mimetype": "text/x-python",
      "name": "python",
      "nbconvert_exporter": "python",
      "pygments_lexer": "ipython3",
      "version": "3.10.10"
    }
  },
  "nbformat": 4,
  "nbformat_minor": 5
}
